{
 "cells": [
  {
   "cell_type": "markdown",
   "metadata": {},
   "source": [
    "### 什么是感知机\n",
    "\n",
    "感知机是一种对输入的特征向量向量$x$二分类线性模型，一般通过输出的正负来判定类别。也可以被扩展为多类判别。\n",
    "\n",
    "感知机是线性的，它的分界面是直线、平面或者超平面：\n",
    "$$wx + b =0 $$\n",
    "特征空间被超平面分类两类，其中$w$称为权值，和$x$一样是一个多维向量。\n",
    "\n",
    "### 感知机的判决函数是什么：\n",
    "\n",
    "$$f(x)=sign(wx+b)$$\n",
    "其中\n",
    "$$ \n",
    "sign(x)=\\left\\{\n",
    "\\begin{aligned}\n",
    "+1, \\qquad if\\ x \\geq 0 \\\\\n",
    "-1, \\qquad if\\ x <0 \\\\\n",
    "\\end{aligned} \\right.$$\n",
    "\n",
    "### 感知机的损失函数（优化目标）是什么：\n",
    "\n",
    "对于给定的数据集$T=\\{(x_1,y_1),(x_2,y_2),\\dots,(x_N,y_N)\\}$，在当前的权重$w$和偏置$b$的情况下，损失函数可以定义为：\n",
    "$$L(w,b)=-\\sum_{i=1}^Ny_i(wx_i+b)$$\n",
    "显然，损失函数越小，这个模型在这个数据集上的表现越好。\n",
    "\n",
    "\n",
    "### 感知机的训练方法是什么：\n",
    "\n",
    "使用的是随机梯度下降的方法：Stochastic Gradient Descent\n",
    "\n",
    "对于给定的数据集，一次迭代是指从数据集合中随机抽取一个数据点并处理，直至所有数据点都被处理完。\n",
    "\n",
    "对于某一次迭代中的某一个点$x_i$，假如模型对它的输出$y_i$不等于输入真实标签$\\hat{y}$，得对模型进行“惩罚”：\n",
    "\n",
    "$$\n",
    "\\begin{equation}\n",
    "w' = w + \\alpha x_i\n",
    "\\tag{1}\n",
    "\\label{a}\n",
    "\\end{equation}\n",
    "$$\n",
    "\n",
    "直至下一次迭代的过程中，所有的数据都被正确分类。\n",
    "\n",
    "需要注意，此处的$w$是增广之后的全向量，$x$也是增广之后的输入特征向量。\n",
    "\n",
    "否则应该写成：\n",
    "\n",
    "$$\n",
    "\\begin{equation}\n",
    "\\left\\{\n",
    "\\begin{aligned}\n",
    "w = w + \\alpha y_{i}x_{i}\\\\\n",
    "b = b + \\alpha y_{i} \\\\\n",
    "\\end{aligned} \\right.\n",
    "\\tag{2}\n",
    "\\label{b}\n",
    "\\end{equation}\n",
    "$$\n",
    "\n",
    "显然$(\\ref{a})$和$(\\ref{b})$是等价的。\n",
    "\n",
    "这个算法的含义是：当实例点被误分类，即位于分离超平面的错误侧，则调整$w$, $b$的值，使分离超平面向该无分类点的一侧移动，直至误分类点被正确分类。\n",
    "\n",
    "### 其他\n",
    "\n",
    "当数据集可分的时候，感知机是保证可以收敛的。\n",
    "\n",
    "虽然在上述情况下可以保证收敛性，但是过度收敛往往意味着过拟合，对于可分性不错的数据机，在损失函数小于某个阈值$e$的时候提前终止是一个不错的选择。\n",
    "\n",
    "sklearn工具包里已经准备好了感知机算法。\n",
    "### 关于代码\n",
    "使用sklearn工具包和iris数据集，拿出iris数据集中两个分类的数据和[sepal length，sepal width]作为特征。\n",
    "\n",
    "这两类分别是前50条数据和51-100条数据。\n"
   ]
  },
  {
   "cell_type": "markdown",
   "metadata": {},
   "source": [
    "## 数据展示和数据预处理"
   ]
  },
  {
   "cell_type": "code",
   "execution_count": 1,
   "metadata": {},
   "outputs": [],
   "source": [
    "import pandas as pd\n",
    "import numpy as np\n",
    "from sklearn.datasets import load_iris\n",
    "import matplotlib.pyplot as plt\n",
    "%matplotlib inline"
   ]
  },
  {
   "cell_type": "code",
   "execution_count": 2,
   "metadata": {},
   "outputs": [],
   "source": [
    "# load data\n",
    "iris = load_iris()\n",
    "df = pd.DataFrame(iris.data, columns=iris.feature_names)\n",
    "df['label'] = iris.target"
   ]
  },
  {
   "cell_type": "code",
   "execution_count": 4,
   "metadata": {},
   "outputs": [],
   "source": [
    "df.columns = [\n",
    "    'sepal length', 'sepal width', 'petal length', 'petal width', 'label'\n",
    "]# 重命名这四行"
   ]
  },
  {
   "cell_type": "code",
   "execution_count": 6,
   "metadata": {},
   "outputs": [
    {
     "data": {
      "text/plain": [
       "2    50\n",
       "1    50\n",
       "0    50\n",
       "Name: label, dtype: int64"
      ]
     },
     "execution_count": 6,
     "metadata": {},
     "output_type": "execute_result"
    }
   ],
   "source": [
    "df.label.value_counts()# 查看label的分布"
   ]
  },
  {
   "cell_type": "code",
   "execution_count": 20,
   "metadata": {},
   "outputs": [
    {
     "data": {
      "text/plain": [
       "<matplotlib.legend.Legend at 0x1a1969de80>"
      ]
     },
     "execution_count": 20,
     "metadata": {},
     "output_type": "execute_result"
    },
    {
     "data": {
      "image/png": "[encoded data removed]",
      "text/plain": [
       "<Figure size 432x288 with 1 Axes>"
      ]
     },
     "metadata": {
      "needs_background": "light"
     },
     "output_type": "display_data"
    }
   ],
   "source": [
    "# 数据展示\n",
    "plt.scatter(df[:50]['sepal length'], df[:50]['sepal width'], label='0') # 散点图\n",
    "plt.scatter(df[50:100]['sepal length'], df[50:100]['sepal width'], label='1') # 散点图\n",
    "plt.xlabel('sepal length')\n",
    "plt.ylabel('sepal width')\n",
    "plt.legend(loc='upper right') # 图例样式，包括位置、大小、名字等等"
   ]
  },
  {
   "cell_type": "code",
   "execution_count": 27,
   "metadata": {},
   "outputs": [],
   "source": [
    "# 数据预处理：切分向量x和labely\n",
    "data = np.array(df.iloc[:100, [0, 1, -1]]) # 选取前100条数据，选取第一列第二列（两个特征）和最后一列（label）"
   ]
  },
  {
   "cell_type": "code",
   "execution_count": 28,
   "metadata": {
    "collapsed": true,
    "jupyter": {
     "outputs_hidden": true
    }
   },
   "outputs": [
    {
     "data": {
      "text/plain": [
       "array([[5.1, 3.5, 0. ],\n",
       "       [4.9, 3. , 0. ],\n",
       "       [4.7, 3.2, 0. ],\n",
       "       [4.6, 3.1, 0. ],\n",
       "       [5. , 3.6, 0. ],\n",
       "       [5.4, 3.9, 0. ],\n",
       "       [4.6, 3.4, 0. ],\n",
       "       [5. , 3.4, 0. ],\n",
       "       [4.4, 2.9, 0. ],\n",
       "       [4.9, 3.1, 0. ],\n",
       "       [5.4, 3.7, 0. ],\n",
       "       [4.8, 3.4, 0. ],\n",
       "       [4.8, 3. , 0. ],\n",
       "       [4.3, 3. , 0. ],\n",
       "       [5.8, 4. , 0. ],\n",
       "       [5.7, 4.4, 0. ],\n",
       "       [5.4, 3.9, 0. ],\n",
       "       [5.1, 3.5, 0. ],\n",
       "       [5.7, 3.8, 0. ],\n",
       "       [5.1, 3.8, 0. ],\n",
       "       [5.4, 3.4, 0. ],\n",
       "       [5.1, 3.7, 0. ],\n",
       "       [4.6, 3.6, 0. ],\n",
       "       [5.1, 3.3, 0. ],\n",
       "       [4.8, 3.4, 0. ],\n",
       "       [5. , 3. , 0. ],\n",
       "       [5. , 3.4, 0. ],\n",
       "       [5.2, 3.5, 0. ],\n",
       "       [5.2, 3.4, 0. ],\n",
       "       [4.7, 3.2, 0. ],\n",
       "       [4.8, 3.1, 0. ],\n",
       "       [5.4, 3.4, 0. ],\n",
       "       [5.2, 4.1, 0. ],\n",
       "       [5.5, 4.2, 0. ],\n",
       "       [4.9, 3.1, 0. ],\n",
       "       [5. , 3.2, 0. ],\n",
       "       [5.5, 3.5, 0. ],\n",
       "       [4.9, 3.6, 0. ],\n",
       "       [4.4, 3. , 0. ],\n",
       "       [5.1, 3.4, 0. ],\n",
       "       [5. , 3.5, 0. ],\n",
       "       [4.5, 2.3, 0. ],\n",
       "       [4.4, 3.2, 0. ],\n",
       "       [5. , 3.5, 0. ],\n",
       "       [5.1, 3.8, 0. ],\n",
       "       [4.8, 3. , 0. ],\n",
       "       [5.1, 3.8, 0. ],\n",
       "       [4.6, 3.2, 0. ],\n",
       "       [5.3, 3.7, 0. ],\n",
       "       [5. , 3.3, 0. ],\n",
       "       [7. , 3.2, 1. ],\n",
       "       [6.4, 3.2, 1. ],\n",
       "       [6.9, 3.1, 1. ],\n",
       "       [5.5, 2.3, 1. ],\n",
       "       [6.5, 2.8, 1. ],\n",
       "       [5.7, 2.8, 1. ],\n",
       "       [6.3, 3.3, 1. ],\n",
       "       [4.9, 2.4, 1. ],\n",
       "       [6.6, 2.9, 1. ],\n",
       "       [5.2, 2.7, 1. ],\n",
       "       [5. , 2. , 1. ],\n",
       "       [5.9, 3. , 1. ],\n",
       "       [6. , 2.2, 1. ],\n",
       "       [6.1, 2.9, 1. ],\n",
       "       [5.6, 2.9, 1. ],\n",
       "       [6.7, 3.1, 1. ],\n",
       "       [5.6, 3. , 1. ],\n",
       "       [5.8, 2.7, 1. ],\n",
       "       [6.2, 2.2, 1. ],\n",
       "       [5.6, 2.5, 1. ],\n",
       "       [5.9, 3.2, 1. ],\n",
       "       [6.1, 2.8, 1. ],\n",
       "       [6.3, 2.5, 1. ],\n",
       "       [6.1, 2.8, 1. ],\n",
       "       [6.4, 2.9, 1. ],\n",
       "       [6.6, 3. , 1. ],\n",
       "       [6.8, 2.8, 1. ],\n",
       "       [6.7, 3. , 1. ],\n",
       "       [6. , 2.9, 1. ],\n",
       "       [5.7, 2.6, 1. ],\n",
       "       [5.5, 2.4, 1. ],\n",
       "       [5.5, 2.4, 1. ],\n",
       "       [5.8, 2.7, 1. ],\n",
       "       [6. , 2.7, 1. ],\n",
       "       [5.4, 3. , 1. ],\n",
       "       [6. , 3.4, 1. ],\n",
       "       [6.7, 3.1, 1. ],\n",
       "       [6.3, 2.3, 1. ],\n",
       "       [5.6, 3. , 1. ],\n",
       "       [5.5, 2.5, 1. ],\n",
       "       [5.5, 2.6, 1. ],\n",
       "       [6.1, 3. , 1. ],\n",
       "       [5.8, 2.6, 1. ],\n",
       "       [5. , 2.3, 1. ],\n",
       "       [5.6, 2.7, 1. ],\n",
       "       [5.7, 3. , 1. ],\n",
       "       [5.7, 2.9, 1. ],\n",
       "       [6.2, 2.9, 1. ],\n",
       "       [5.1, 2.5, 1. ],\n",
       "       [5.7, 2.8, 1. ]])"
      ]
     },
     "execution_count": 28,
     "metadata": {},
     "output_type": "execute_result"
    }
   ],
   "source": [
    "data"
   ]
  },
  {
   "cell_type": "code",
   "execution_count": 29,
   "metadata": {},
   "outputs": [],
   "source": [
    "X, y = data[:,:-1], data[:,-1]# x的行全取，列取到倒数第二列。y取所有行最后一列"
   ]
  },
  {
   "cell_type": "code",
   "execution_count": 31,
   "metadata": {
    "collapsed": true,
    "jupyter": {
     "outputs_hidden": true
    }
   },
   "outputs": [
    {
     "data": {
      "text/plain": [
       "(array([[5.1, 3.5],\n",
       "        [4.9, 3. ],\n",
       "        [4.7, 3.2],\n",
       "        [4.6, 3.1],\n",
       "        [5. , 3.6],\n",
       "        [5.4, 3.9],\n",
       "        [4.6, 3.4],\n",
       "        [5. , 3.4],\n",
       "        [4.4, 2.9],\n",
       "        [4.9, 3.1],\n",
       "        [5.4, 3.7],\n",
       "        [4.8, 3.4],\n",
       "        [4.8, 3. ],\n",
       "        [4.3, 3. ],\n",
       "        [5.8, 4. ],\n",
       "        [5.7, 4.4],\n",
       "        [5.4, 3.9],\n",
       "        [5.1, 3.5],\n",
       "        [5.7, 3.8],\n",
       "        [5.1, 3.8],\n",
       "        [5.4, 3.4],\n",
       "        [5.1, 3.7],\n",
       "        [4.6, 3.6],\n",
       "        [5.1, 3.3],\n",
       "        [4.8, 3.4],\n",
       "        [5. , 3. ],\n",
       "        [5. , 3.4],\n",
       "        [5.2, 3.5],\n",
       "        [5.2, 3.4],\n",
       "        [4.7, 3.2],\n",
       "        [4.8, 3.1],\n",
       "        [5.4, 3.4],\n",
       "        [5.2, 4.1],\n",
       "        [5.5, 4.2],\n",
       "        [4.9, 3.1],\n",
       "        [5. , 3.2],\n",
       "        [5.5, 3.5],\n",
       "        [4.9, 3.6],\n",
       "        [4.4, 3. ],\n",
       "        [5.1, 3.4],\n",
       "        [5. , 3.5],\n",
       "        [4.5, 2.3],\n",
       "        [4.4, 3.2],\n",
       "        [5. , 3.5],\n",
       "        [5.1, 3.8],\n",
       "        [4.8, 3. ],\n",
       "        [5.1, 3.8],\n",
       "        [4.6, 3.2],\n",
       "        [5.3, 3.7],\n",
       "        [5. , 3.3],\n",
       "        [7. , 3.2],\n",
       "        [6.4, 3.2],\n",
       "        [6.9, 3.1],\n",
       "        [5.5, 2.3],\n",
       "        [6.5, 2.8],\n",
       "        [5.7, 2.8],\n",
       "        [6.3, 3.3],\n",
       "        [4.9, 2.4],\n",
       "        [6.6, 2.9],\n",
       "        [5.2, 2.7],\n",
       "        [5. , 2. ],\n",
       "        [5.9, 3. ],\n",
       "        [6. , 2.2],\n",
       "        [6.1, 2.9],\n",
       "        [5.6, 2.9],\n",
       "        [6.7, 3.1],\n",
       "        [5.6, 3. ],\n",
       "        [5.8, 2.7],\n",
       "        [6.2, 2.2],\n",
       "        [5.6, 2.5],\n",
       "        [5.9, 3.2],\n",
       "        [6.1, 2.8],\n",
       "        [6.3, 2.5],\n",
       "        [6.1, 2.8],\n",
       "        [6.4, 2.9],\n",
       "        [6.6, 3. ],\n",
       "        [6.8, 2.8],\n",
       "        [6.7, 3. ],\n",
       "        [6. , 2.9],\n",
       "        [5.7, 2.6],\n",
       "        [5.5, 2.4],\n",
       "        [5.5, 2.4],\n",
       "        [5.8, 2.7],\n",
       "        [6. , 2.7],\n",
       "        [5.4, 3. ],\n",
       "        [6. , 3.4],\n",
       "        [6.7, 3.1],\n",
       "        [6.3, 2.3],\n",
       "        [5.6, 3. ],\n",
       "        [5.5, 2.5],\n",
       "        [5.5, 2.6],\n",
       "        [6.1, 3. ],\n",
       "        [5.8, 2.6],\n",
       "        [5. , 2.3],\n",
       "        [5.6, 2.7],\n",
       "        [5.7, 3. ],\n",
       "        [5.7, 2.9],\n",
       "        [6.2, 2.9],\n",
       "        [5.1, 2.5],\n",
       "        [5.7, 2.8]]),\n",
       " array([0., 0., 0., 0., 0., 0., 0., 0., 0., 0., 0., 0., 0., 0., 0., 0., 0.,\n",
       "        0., 0., 0., 0., 0., 0., 0., 0., 0., 0., 0., 0., 0., 0., 0., 0., 0.,\n",
       "        0., 0., 0., 0., 0., 0., 0., 0., 0., 0., 0., 0., 0., 0., 0., 0., 1.,\n",
       "        1., 1., 1., 1., 1., 1., 1., 1., 1., 1., 1., 1., 1., 1., 1., 1., 1.,\n",
       "        1., 1., 1., 1., 1., 1., 1., 1., 1., 1., 1., 1., 1., 1., 1., 1., 1.,\n",
       "        1., 1., 1., 1., 1., 1., 1., 1., 1., 1., 1., 1., 1., 1., 1.]))"
      ]
     },
     "execution_count": 31,
     "metadata": {},
     "output_type": "execute_result"
    }
   ],
   "source": [
    "X, y"
   ]
  },
  {
   "cell_type": "code",
   "execution_count": 32,
   "metadata": {},
   "outputs": [],
   "source": [
    "y = np.array([1 if i == 1 else -1 for i in y]) # 处理成感知机的形式：-1或+1"
   ]
  },
  {
   "cell_type": "markdown",
   "metadata": {},
   "source": [
    "## 感知机算法实现"
   ]
  },
  {
   "cell_type": "code",
   "execution_count": 37,
   "metadata": {},
   "outputs": [],
   "source": [
    "# 定义模型\n",
    "# 数据线性可分，二分类数据\n",
    "# 此处为一元一次线性方程\n",
    "class Model:\n",
    "    def __init__(self):\n",
    "        self.w = np.ones(len(data[0]) - 1, dtype=np.float32)\n",
    "        self.b = 0\n",
    "        self.l_rate = 0.1 # 学习旅\n",
    "        # self.data = data\n",
    "\n",
    "    def forward(self, x, w, b):\n",
    "        y = np.dot(x, w) + b # 只计算了大小，还没有进行sign\n",
    "        return y\n",
    "\n",
    "    # 随机梯度下降法\n",
    "    def fit(self, X_train, y_train):\n",
    "        is_wrong = False\n",
    "        while not is_wrong:\n",
    "            wrong_count = 0\n",
    "            for d in range(len(X_train)):\n",
    "                X = X_train[d]\n",
    "                y = y_train[d]\n",
    "                if y * self.forward(X, self.w, self.b) <= 0:\n",
    "                    self.w = self.w + self.l_rate * np.dot(y, X)\n",
    "                    self.b = self.b + self.l_rate * y\n",
    "                    wrong_count += 1\n",
    "            if wrong_count == 0:\n",
    "                is_wrong = True\n",
    "        return 'Perceptron Model!'"
   ]
  },
  {
   "cell_type": "code",
   "execution_count": 38,
   "metadata": {},
   "outputs": [
    {
     "data": {
      "text/plain": [
       "'Perceptron Model!'"
      ]
     },
     "execution_count": 38,
     "metadata": {},
     "output_type": "execute_result"
    }
   ],
   "source": [
    "# 训练模型\n",
    "perceptron = Model()\n",
    "perceptron.fit(X, y)\n",
    "# 通过perceptron.w和perceptron.b可以取出训练好的参数"
   ]
  },
  {
   "cell_type": "markdown",
   "metadata": {},
   "source": [
    "$$w_1*x_1+w_2*x_2+b = 0$$\n",
    "$$👇$$\n",
    "$$x_2 = -(w_1*x_1+b)/w_2$$"
   ]
  },
  {
   "cell_type": "code",
   "execution_count": 47,
   "metadata": {},
   "outputs": [
    {
     "data": {
      "text/plain": [
       "<matplotlib.legend.Legend at 0x1a1a370358>"
      ]
     },
     "execution_count": 47,
     "metadata": {},
     "output_type": "execute_result"
    },
    {
     "data": {
      "image/png": "[encoded data removed]",
      "text/plain": [
       "<Figure size 432x288 with 1 Axes>"
      ]
     },
     "metadata": {
      "needs_background": "light"
     },
     "output_type": "display_data"
    }
   ],
   "source": [
    "# 画出感知机训练好之后的直线：\n",
    "x_points = np.linspace(4, 7, 10)\n",
    "y_ = -(perceptron.w[0] * x_points + perceptron.b) / perceptron.w[1]\n",
    "plt.plot(x_points, y_)\n",
    "plt.scatter(df[:50]['sepal length'],df[:50]['sepal width'], marker = \"x\", label='0')\n",
    "plt.scatter(df[50:100]['sepal length'], df[50:100]['sepal width'], marker = \"x\", label='1')\n",
    "plt.xlabel('sepal length')\n",
    "plt.ylabel('sepal width')\n",
    "plt.legend()"
   ]
  },
  {
   "cell_type": "code",
   "execution_count": null,
   "metadata": {},
   "outputs": [],
   "source": []
  }
 ],
 "metadata": {
  "kernelspec": {
   "display_name": "Python 3",
   "language": "python",
   "name": "python3"
  },
  "language_info": {
   "codemirror_mode": {
    "name": "ipython",
    "version": 3
   },
   "file_extension": ".py",
   "mimetype": "text/x-python",
   "name": "python",
   "nbconvert_exporter": "python",
   "pygments_lexer": "ipython3",
   "version": "3.7.4"
  }
 },
 "nbformat": 4,
 "nbformat_minor": 4
}
