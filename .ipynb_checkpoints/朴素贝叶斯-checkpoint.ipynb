{
 "cells": [
  {
   "cell_type": "markdown",
   "metadata": {},
   "source": [
    "### 什么是朴素贝叶斯\n",
    "\n",
    "“朴素”是指对于输入变量的各个特征之间都是独立的，当我计算$P(X)$的时候，可以直接使用$$P(X)=P(x_1)P(x_2)\\dots P(x_N)$$。这一假设很强，可以无视很多的条件概率的计算。因此虽然朴素贝叶斯带入假设的分布的公式后看起来比较繁琐，但是思路简洁、实现简单。另一方面，这个假设有些强了，其性能不一定高。最好能结合PCA、encoder-decoder技术进行数据预处理。\n",
    "\n",
    "### 贝叶斯公式\n",
    "贝叶斯公式是不考虑“朴素”不“朴素”的，它是一个普适的公式：\n",
    "$$\\begin{equation}\n",
    "P(Y|X)=\\frac{P(X,Y)}{P(X)}=\\frac{P(X|Y)P(Y)}{P(X)}=\\frac{P(X|Y)P(Y)}{\\sum_{y_i\\in Y}P(X|Y=y_i)P(Y=y_i)}\n",
    "\\end{equation}\n",
    "$$\n",
    "\n",
    "### 判决过程\n",
    "判决公式：\n",
    "$$\n",
    "\\begin{equation}\n",
    "y=\\arg \\max _{c_{k}} P\\left(Y=c_{k}\\right) \\prod_{j=1}^{n} P\\left(X_{j}=x^{(j)} | Y=c_{k}\\right)\n",
    "\\end{equation}\n",
    "\\tag{1}\n",
    "\\label{a}\n",
    "$$\n",
    "\n",
    "显然，上式是后验概率最大，后验概率最大相当于0-1损失时的期望风险最小化。\n",
    "\n",
    "($\\ref{a}$)式中的$P(Y)$是先验概率，$P(X | Y=c_{k})$才是计算的重点。计算过程主要分两步：\n",
    "1. 设定P(X|Y)的模型。\n",
    ">- 高斯模型\n",
    ">- 多项式模型\n",
    ">- 伯努利模型\n",
    "2. 根据给定的数据计算上述模型的参数。不同类别计算得到不同的参数。\n",
    "\n",
    "### 一些概念\n",
    "\n",
    "什么是似然：给定样本 $X = x$下，参数$\\theta_1$为真实值的可能性。\n",
    "\n",
    "什么是概率：在给定模型参数$\\theta_1$的情况下，样本随机变量$X=x$的可能性。\n",
    "\n",
    "什么是先验概率：根据以往的经验得到的概率。例如类别出现的概率$P(w_i)$。\n",
    "\n",
    "什么是后验概率：给定参数（模型的参数）下在考虑和给出相关证据（就是数据）后所得到的条件概率 $P(w_j|x)$。\n",
    "\n",
    "什么是证据因子：证据因子$P(X)$是贝叶斯公式的分母，用于归一化。在真正计算的时候，可以直接忽略，计算分子。\n",
    "\n",
    "什么是生成模型：生成模型的核心，是预测联合概率分布函数$P(X,Y)$，其意义为：生成$(X,Y)$的概率密度。在分类问题中常常转化成贝叶斯公式。\n",
    "> 生成模型有：\n",
    ">- 朴素贝叶斯\n",
    ">- 混合高斯模型\n",
    ">- 隐马尔科夫模型(HMM)\n",
    ">- 贝叶斯网络\n",
    ">- Sigmoid Belief Networks\n",
    ">- 马尔科夫随机场(Markov Random Fields)\n",
    ">- 深度信念网络(DBN)\n",
    "\n",
    "什么是判别模型：判别模型的思想是，我不管你什么联合概率分布，我只想根据输入的样本$x$拟合出输出$w_i$：$P(w_i|x)$。\n",
    "> 判别式模型有：\n",
    ">- K近邻(KNN)\n",
    ">- 线性回归(Linear Regression)\n",
    ">- 逻辑斯蒂回归(Logistic Regression)\n",
    ">- 神经网络(NN)\n",
    ">- 支持向量机(SVM)\n",
    ">- 高斯过程(Gaussian Process)\n",
    ">- 条件随机场(CRF)\n",
    ">- CART(Classification and Regression Tree)\n"
   ]
  },
  {
   "cell_type": "code",
   "execution_count": 2,
   "metadata": {},
   "outputs": [],
   "source": [
    "import numpy as np\n",
    "import pandas as pd\n",
    "import matplotlib.pyplot as plt\n",
    "%matplotlib inline\n",
    "\n",
    "from sklearn.datasets import load_iris\n",
    "from sklearn.model_selection import train_test_split\n",
    "\n",
    "from collections import Counter\n",
    "import math"
   ]
  },
  {
   "cell_type": "code",
   "execution_count": 1,
   "metadata": {},
   "outputs": [],
   "source": [
    "# 从iris数据集中data，取0、1两个类别（即前100行）\n",
    "def create_data():\n",
    "    iris = load_iris()\n",
    "    df = pd.DataFrame(iris.data, columns=iris.feature_names)\n",
    "    df['label'] = iris.target\n",
    "    df.columns = ['sepal length', 'sepal width', 'petal length', 'petal width', 'label']\n",
    "    data = np.array(df.iloc[:100, :])\n",
    "    # print(data)\n",
    "    return data[:,:-1], data[:,-1]"
   ]
  },
  {
   "cell_type": "code",
   "execution_count": 5,
   "metadata": {},
   "outputs": [],
   "source": [
    "X, y = create_data()\n",
    "X_train, X_test, y_train, y_test = train_test_split(X, y, test_size=0.3) # 使用sklearn工具包的train_test_split工具分离训练集和测试集。"
   ]
  },
  {
   "cell_type": "code",
   "execution_count": 7,
   "metadata": {},
   "outputs": [
    {
     "data": {
      "text/plain": [
       "(array([6. , 2.9, 4.5, 1.5]), 1.0)"
      ]
     },
     "execution_count": 7,
     "metadata": {},
     "output_type": "execute_result"
    }
   ],
   "source": [
    "X_test[0], y_test[0] # 查看一下数据样式"
   ]
  },
  {
   "cell_type": "markdown",
   "metadata": {},
   "source": [
    "### 模型假设\n",
    "\n",
    "假设模型符合高斯分布：\n",
    "$$P(x_i | y_k)=\\frac{1}{\\sqrt{2\\pi\\sigma^2_{yk}}}exp(-\\frac{(x_i-\\mu_{yk})^2}{2\\sigma^2_{yk}})$$\n",
    "\n",
    "模型的参数为：\n",
    "数学期望(mean)：$\\mu$\n",
    "\n",
    "方差：$\\sigma^2=\\frac{\\sum(X-\\mu)^2}{N}$"
   ]
  },
  {
   "cell_type": "code",
   "execution_count": 55,
   "metadata": {},
   "outputs": [],
   "source": [
    "# 定义模型\n",
    "class NaiveBayes:\n",
    "    def __init__(self):\n",
    "        self.model = None\n",
    "\n",
    "    # 数学期望\n",
    "    @staticmethod\n",
    "    def mean(X):\n",
    "        return sum(X) / float(len(X))\n",
    "\n",
    "    # 标准差（方差）\n",
    "    def stdev(self, X):\n",
    "        avg = self.mean(X)\n",
    "        return math.sqrt(sum([pow(x - avg, 2) for x in X]) / float(len(X)))\n",
    "\n",
    "    # 概率密度函数\n",
    "    def gaussian_probability(self, x, mean, stdev):\n",
    "        exponent = math.exp(-(math.pow(x - mean, 2) /\n",
    "                              (2 * math.pow(stdev, 2))))\n",
    "        return (1 / (math.sqrt(2 * math.pi) * stdev)) * exponent\n",
    "\n",
    "    # 处理X_train\n",
    "    def summarize(self, train_data):\n",
    "        summaries = [(self.mean(i), self.stdev(i)) for i in zip(*train_data)] # zip(*train_data)把数据变成一列一列的，i是某一列数据（某一个特征）。即分别求每一列的均值、方差。\n",
    "        return summaries\n",
    "\n",
    "    # 分类别求出数学期望和标准差\n",
    "    def fit(self, X, y):\n",
    "        labels = list(set(y)) # set 去重复变成一个不重复的集合\n",
    "        data = {label: [] for label in labels}\n",
    "        for f, label in zip(X, y):\n",
    "            data[label].append(f)\n",
    "        self.model = {\n",
    "            label: self.summarize(value)\n",
    "            for label, value in data.items()\n",
    "        }\n",
    "        print(self.model)\n",
    "        return 'gaussianNB train done!'\n",
    "\n",
    "    # 计算概率\n",
    "    def calculate_probabilities(self, input_data):\n",
    "        # summaries:{0.0: [(5.0, 0.37),(3.42, 0.40)], 1.0: [(5.8, 0.449),(2.7, 0.27)]}\n",
    "        # input_data:[1.1, 2.2]\n",
    "        probabilities = {}\n",
    "        for label, value in self.model.items():\n",
    "            probabilities[label] = 1\n",
    "            for i in range(len(value)):\n",
    "                mean, stdev = value[i]\n",
    "                probabilities[label] *= self.gaussian_probability(\n",
    "                    input_data[i], mean, stdev)# 四个特征的概率连乘，就可以得到该输入数据在该类别下生成该数据X={x_1,x_2,x_3,x_4}的概率。\n",
    "        return probabilities # 必要时可以取log，否则数据太小，计算机不好表示。取log是在上一步那里就取，把✖️变成加号，而不是在这里加一个log。\n",
    "\n",
    "    # 类别\n",
    "    def predict(self, X_test):\n",
    "        # {0.0: 2.9680340789325763e-27, 1.0: 3.5749783019849535e-26}\n",
    "        label = sorted(\n",
    "            self.calculate_probabilities(X_test).items(),\n",
    "            key=lambda x: x[-1])[-1][0] # 按照probability进行排序，排序完之后，取出最后一个（概率最大的一个）的label\n",
    "        return label\n",
    "\n",
    "    def score(self, X_test, y_test):\n",
    "        right = 0\n",
    "        for X, y in zip(X_test, y_test):\n",
    "            label = self.predict(X)\n",
    "            if label == y:\n",
    "                right += 1\n",
    "\n",
    "        return right / float(len(X_test))"
   ]
  },
  {
   "cell_type": "code",
   "execution_count": 56,
   "metadata": {},
   "outputs": [],
   "source": [
    "model = NaiveBayes()"
   ]
  },
  {
   "cell_type": "code",
   "execution_count": 57,
   "metadata": {},
   "outputs": [
    {
     "name": "stdout",
     "output_type": "stream",
     "text": [
      "{0.0: [(5.028125, 0.31047783234073256), (3.4406250000000007, 0.3190409211605934), (1.4906249999999999, 0.160778137117582), (0.23125000000000007, 0.09499177595981663)], 1.0: [(5.910526315789474, 0.5225390812300477), (2.742105263157895, 0.3468896221744018), (4.205263157894737, 0.49147863283910537), (1.3026315789473681, 0.2070937266899918)]}\n"
     ]
    }
   ],
   "source": [
    "model.fit(X_train, y_train)\n",
    "X = X_train\n",
    "y = y_train\n"
   ]
  },
  {
   "cell_type": "code",
   "execution_count": 64,
   "metadata": {},
   "outputs": [
    {
     "name": "stdout",
     "output_type": "stream",
     "text": [
      "0.0\n"
     ]
    }
   ],
   "source": [
    "print(model.predict([4.4,  3.2,  1.3,  0.2]))"
   ]
  },
  {
   "cell_type": "code",
   "execution_count": 66,
   "metadata": {},
   "outputs": [
    {
     "data": {
      "text/plain": [
       "1.0"
      ]
     },
     "execution_count": 66,
     "metadata": {},
     "output_type": "execute_result"
    }
   ],
   "source": [
    "model.score(X_test, y_test) # 全部预测正确！"
   ]
  },
  {
   "cell_type": "markdown",
   "metadata": {},
   "source": [
    "### 同样sklearn工具包有包含高斯模型的NB"
   ]
  },
  {
   "cell_type": "code",
   "execution_count": 67,
   "metadata": {},
   "outputs": [],
   "source": [
    "from sklearn.naive_bayes import GaussianNB"
   ]
  },
  {
   "cell_type": "code",
   "execution_count": 68,
   "metadata": {},
   "outputs": [
    {
     "data": {
      "text/plain": [
       "GaussianNB(priors=None, var_smoothing=1e-09)"
      ]
     },
     "execution_count": 68,
     "metadata": {},
     "output_type": "execute_result"
    }
   ],
   "source": [
    "clf = GaussianNB()\n",
    "clf.fit(X_train, y_train)"
   ]
  },
  {
   "cell_type": "code",
   "execution_count": 69,
   "metadata": {},
   "outputs": [
    {
     "data": {
      "text/plain": [
       "array([0.])"
      ]
     },
     "execution_count": 69,
     "metadata": {},
     "output_type": "execute_result"
    }
   ],
   "source": [
    "clf.predict([[4.4,  3.2,  1.3,  0.2]])"
   ]
  },
  {
   "cell_type": "code",
   "execution_count": 70,
   "metadata": {},
   "outputs": [
    {
     "data": {
      "text/plain": [
       "1.0"
      ]
     },
     "execution_count": 70,
     "metadata": {},
     "output_type": "execute_result"
    }
   ],
   "source": [
    "clf.score(X_test, y_test)"
   ]
  },
  {
   "cell_type": "markdown",
   "metadata": {},
   "source": [
    "### 不只是高斯，sklearn还包含伯努利和多项式模型的NB"
   ]
  },
  {
   "cell_type": "code",
   "execution_count": 71,
   "metadata": {},
   "outputs": [],
   "source": [
    "from sklearn.naive_bayes import BernoulliNB, MultinomialNB # 伯努利模型和多项式模型"
   ]
  }
 ],
 "metadata": {
  "kernelspec": {
   "display_name": "Python 3",
   "language": "python",
   "name": "python3"
  },
  "language_info": {
   "codemirror_mode": {
    "name": "ipython",
    "version": 3
   },
   "file_extension": ".py",
   "mimetype": "text/x-python",
   "name": "python",
   "nbconvert_exporter": "python",
   "pygments_lexer": "ipython3",
   "version": "3.6.9"
  }
 },
 "nbformat": 4,
 "nbformat_minor": 4
}
