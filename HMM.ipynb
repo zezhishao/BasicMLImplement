{
 "cells": [
  {
   "cell_type": "markdown",
   "metadata": {},
   "source": [
    "<img src=\"./images/自然语言处理-9.jpg\" alt=\"Stacking\" style=\"zoom:30%;\"/>"
   ]
  },
  {
   "cell_type": "markdown",
   "metadata": {},
   "source": [
    "<img src=\"./images/自然语言处理-10.jpg\" alt=\"Stacking\" style=\"zoom:30%;\"/>"
   ]
  },
  {
   "cell_type": "markdown",
   "metadata": {},
   "source": [
    "<img src=\"./images/自然语言处理-11.jpg\" alt=\"Stacking\" style=\"zoom:30%;\"/>"
   ]
  },
  {
   "cell_type": "markdown",
   "metadata": {},
   "source": [
    "<img src=\"./images/自然语言处理-12.jpg\" alt=\"Stacking\" style=\"zoom:30%;\"/>"
   ]
  },
  {
   "cell_type": "markdown",
   "metadata": {},
   "source": [
    "<img src=\"./images/自然语言处理-13.jpg\" alt=\"Stacking\" style=\"zoom:30%;\"/>"
   ]
  },
  {
   "cell_type": "markdown",
   "metadata": {},
   "source": [
    "<img src=\"./images/自然语言处理-14.jpg\" alt=\"Stacking\" style=\"zoom:30%;\"/>"
   ]
  },
  {
   "cell_type": "markdown",
   "metadata": {},
   "source": [
    "<img src=\"./images/自然语言处理-15.jpg\" alt=\"Stacking\" style=\"zoom:30%;\"/>"
   ]
  },
  {
   "cell_type": "markdown",
   "metadata": {},
   "source": [
    "<img src=\"./images/自然语言处理-16.jpg\" alt=\"Stacking\" style=\"zoom:30%;\"/>"
   ]
  },
  {
   "cell_type": "markdown",
   "metadata": {},
   "source": [
    "<img src=\"./images/自然语言处理-17.jpg\" alt=\"Stacking\" style=\"zoom:30%;\"/>"
   ]
  },
  {
   "cell_type": "markdown",
   "metadata": {},
   "source": [
    "<img src=\"./images/自然语言处理-18.jpg\" alt=\"Stacking\" style=\"zoom:30%;\"/>"
   ]
  },
  {
   "cell_type": "markdown",
   "metadata": {},
   "source": [
    "<img src=\"./images/自然语言处理-19.jpg\" alt=\"Stacking\" style=\"zoom:30%;\"/>"
   ]
  },
  {
   "cell_type": "markdown",
   "metadata": {},
   "source": [
    "<img src=\"./images/自然语言处理-20.jpg\" alt=\"Stacking\" style=\"zoom:30%;\"/>"
   ]
  },
  {
   "cell_type": "code",
   "execution_count": 15,
   "metadata": {},
   "outputs": [
    {
     "name": "stdout",
     "output_type": "stream",
     "text": [
      "前向概率矩阵及当前观测序列概率如下：\n",
      "[[0.24     0.24     0.09    ]\n",
      " [0.1488   0.1458   0.0423  ]\n",
      " [0.022344 0.058164 0.055839]]\n",
      "0.136347\n",
      "后向概率矩阵及当前观测序列概率如下：\n",
      "[[1.     1.     1.    ]\n",
      " [0.35   0.43   0.51  ]\n",
      " [0.2563 0.2331 0.2099]]\n",
      "[[0.136347]]\n",
      "在时刻3处于状态3的概率是：\n",
      "0.4095359633875333\n",
      "路径节点分别为\n",
      "[1, 1, 2]\n",
      "该路径概率为0.015360000000000002\n"
     ]
    }
   ],
   "source": [
    "\n",
    "'''\n",
    "实现隐马尔科夫模型的基本方法，\n",
    "输入为状态转移矩阵，观测矩阵，初始状态概率向量，观测序列\n",
    "实现前向算法和后向算法计算观测序列出现的概率\n",
    "实现维特比算法找当前观测序列下最可能的状态序列\n",
    "实现在给定模型和观测下，t时刻处于p状态的概率，t,p在main函数中指定\n",
    "\n",
    "使用矩阵的方式简化前向和后向的代码和运算过程\n",
    "\n",
    "但是维特比和BW算法还没有进行简化\n",
    "'''\n",
    "from numpy import *\n",
    "import numpy as np\n",
    "\n",
    "\n",
    "class HMM:\n",
    "\n",
    "    def __init__(self):\n",
    "        self.A = array([(0.4, 0.5, 0.1), (0.3, 0.4, 0.3), (0.2, 0.3, 0.5)])\n",
    "        self.B = array([(0.8, 0.2), (0.6, 0.4), (0.3, 0.7)])\n",
    "        self.pi_m = array([[0.3], [0.4], [0.3]])\n",
    "        self.pi = array([0.3, 0.4, 0.3])\n",
    "        self.o = [0, 0, 1]\n",
    "        self.t = len(self.o)  # 观测序列长度\n",
    "        self.m = len(self.A)  # 状态集合个数\n",
    "        self.n = len(self.B[0])  # 观测集合个数\n",
    "\n",
    "    def forword(self):\n",
    "        alpha = np.array(self.pi * self.B[:, self.o[0]]).reshape(1, self.t)\n",
    "        for i in range(1, self.t):\n",
    "            B_O_t_1 = self.B[:, self.o[i]].reshape(1, self.t)\n",
    "            tmp = alpha[-1].reshape(1, self.t)\n",
    "            alpha_t_1 = B_O_t_1 * (tmp.dot(self.A))\n",
    "            alpha = np.append(alpha, alpha_t_1).reshape(i + 1, self.t)\n",
    "        p = sum(alpha[-1])\n",
    "        self.x = alpha\n",
    "        print(u\"前向概率矩阵及当前观测序列概率如下：\")\n",
    "        print(alpha)\n",
    "        print(p)\n",
    "\n",
    "    def backword(self):\n",
    "        beta_T = np.array([1 for i in range(0, self.t)]).reshape(self.t, 1)\n",
    "        for i in range(1, self.t):\n",
    "            a = self.A\n",
    "            b = beta_T[:, -1].reshape(self.t, 1)\n",
    "            c = self.B[:, self.o[self.t - i]].reshape(self.t, 1)\n",
    "            tmp = b * c\n",
    "            B_t_1 = a.dot(tmp)\n",
    "            beta_T = np.append(beta_T.transpose(), B_t_1).reshape(i + 1, self.t).transpose()\n",
    "        p = (beta_T[:, -1].reshape(1, self.t) * self.pi).dot(self.B[:, self.o[0]].reshape(self.t, 1))\n",
    "        print(u'后向概率矩阵及当前观测序列概率如下：')\n",
    "        print(beta_T.transpose())\n",
    "        print(p)\n",
    "        self.y = beta_T.transpose()[::-1]\n",
    "\n",
    "    def get_stateprobability(self, t, p):\n",
    "        if (t > self.t or p > self.m):\n",
    "            print(u'输入数据超过范围')\n",
    "            return\n",
    "        print(u'在时刻' + str(t) + u'处于状态' + str(p) + u'的概率是：')\n",
    "        temp = self.x[t - 1][p - 1] * self.y[t - 1][p - 1]\n",
    "        total = 0\n",
    "        for i in range(self.m):\n",
    "            total = total + self.x[t - 1][i] * self.y[t - 1][i]\n",
    "        print(temp / total)\n",
    "\n",
    "    def viterbi(self):\n",
    "        self.z = array(zeros((self.t, self.m)))\n",
    "        self.d = array(zeros((self.t, self.m)))\n",
    "        for i in range(self.m):\n",
    "            self.z[0][i] = self.pi[i] * self.B[i][self.o[0]]\n",
    "            self.d[0][i] = 0\n",
    "        for j in range(1, self.t):\n",
    "            for i in range(self.m):\n",
    "                maxnum = self.z[j - 1][0] * self.A[0][i]\n",
    "                node = 1\n",
    "                for k in range(1, self.m):\n",
    "                    temp = self.z[j - 1][k] * self.A[k][i]\n",
    "                    if (maxnum < temp):\n",
    "                        maxnum = temp\n",
    "                        node = k + 1\n",
    "                self.z[j][i] = maxnum * self.B[i][self.o[j]]\n",
    "                self.d[j][i] = node\n",
    "        # 找到T时刻概率最大的路径\n",
    "        max_probability = self.z[self.t - 1][0]\n",
    "        last_node = [1]\n",
    "        temp = 0\n",
    "        for i in range(1, self.m):\n",
    "            if (max_probability < self.z[self.t - 1][i]):\n",
    "                max_probability = self.z[self.t - 1][i]\n",
    "                last_node[0] = i + 1\n",
    "                temp = i\n",
    "        i = self.t - 1\n",
    "        # self.d[t][p],t时刻状态为p的时候，t-1时刻的状态\n",
    "        while (i >= 1):\n",
    "            last_node.append(self.d[i][temp])\n",
    "            i = i - 1\n",
    "        temp = ['o']\n",
    "        temp[0] = int(last_node[len(last_node) - 1])\n",
    "        j = len(last_node) - 2\n",
    "        while j >= 0:\n",
    "            temp.append(int(last_node[j]))\n",
    "            j = j - 1\n",
    "        print(u'路径节点分别为')\n",
    "        print(temp)\n",
    "        print(u'该路径概率为' + str(max_probability))\n",
    "\n",
    "\n",
    "if __name__ == '__main__':\n",
    "    test = HMM()\n",
    "    test.forword()\n",
    "    test.backword()\n",
    "    test.get_stateprobability(3, 3)\n",
    "    test.viterbi()"
   ]
  }
 ],
 "metadata": {
  "kernelspec": {
   "display_name": "Python 3",
   "language": "python",
   "name": "python3"
  },
  "language_info": {
   "codemirror_mode": {
    "name": "ipython",
    "version": 3
   },
   "file_extension": ".py",
   "mimetype": "text/x-python",
   "name": "python",
   "nbconvert_exporter": "python",
   "pygments_lexer": "ipython3",
   "version": "3.6.9"
  }
 },
 "nbformat": 4,
 "nbformat_minor": 4
}
