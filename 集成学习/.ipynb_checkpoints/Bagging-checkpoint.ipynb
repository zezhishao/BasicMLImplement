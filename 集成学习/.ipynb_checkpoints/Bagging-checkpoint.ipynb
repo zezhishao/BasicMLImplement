{
 "cells": [
  {
   "cell_type": "markdown",
   "metadata": {},
   "source": [
    "\n",
    "------\n",
    "\n",
    "### 1. Bagging\n",
    "\n",
    "#### 1.1 Booststrap\n",
    "\n",
    "Bagging的全称是“**B**ootstrap **AGG**regat**ING**”。\n",
    "\n",
    "Booststrap是一个重采样方法：通过从原始的$N$个样本数据$D=\\{x_1,x_2,\\dots,x_N\\}$，进行$N$次有放回采样$N$个数据 ，称为一个bootstrap样本。\n",
    "Booststrap通过**有放回的采样**，得到和原来的数据集大小不变的新数据集，其中几乎必然会有重复，所以这个操作等价于给样本reweighting。\n",
    "\n",
    "#### 1.2 Bagging的算法过程\n",
    "\n",
    "设基学习器的个数为$M$个，那么就从数据集中进行$M$次Booststrap。用这$M$个数据集训练可以得到$M$个模型。\n",
    "对这$M$个模型按如下方式投票:\n",
    "$$f_{avg}(x)=\\frac{1}{N}\\sum_{m=1}^Mf_m(x)$$\n",
    "\n",
    "**可以证明：Bagging可以降低模型的方差。**\n",
    "\n",
    "#### 1.3 Bagging具有降低模型方差的功效\n",
    "\n",
    "对于M个模型，每个模型会产生一个“样本”X，这些样本都是从一个均值为$\\mu$，方差为$\\sigma$的分布中产生的。\n",
    "\n",
    "这些样本的均值为$\\hat{X}$可以看成另一个新的样本，该样本服从均值为$\\mu$、方差为$\\frac{\\sigma^2}{M}$的分布（通过简单的概率公式就可以推导出来）。\n",
    "\n",
    "由此，可以对Bagging做出两个结论：\n",
    "1. 样本均值$\\hat{X}$的期望和$X$的期望相等（无偏估计）\n",
    "2. 样本均值$\\hat{X}$的方差比$X$的方差小，且样本数（模型数量）越大，方差就越小。\n",
    "\n",
    "因此Bagging可以降低模型方差，且不改变模型偏差。因此Bagging适用于偏差低、方差高的模型。例如决策树、神经网络。决策树+Bagging就是随机森林了。另外在sklearn中支持对任意的基学习器的Bagging。\n",
    ">- 分类：BaggingClassifier\n",
    ">- 回归：BaggingRegressor\n",
    "\n",
    "Bagging的每个基学习器只在原始数据集的一部分上训练，所以可以不用交叉验证，直接用包外样本上的误差 （out-of-bag error）来估计它的泛化误差/测试误差。\n",
    "<img src=\"./images/Bagging.png\" alt=\"SVM \" style=\"zoom:28%;\" />\n",
    "\n",
    "\n",
    "另外，以上计算是在各个模型之间相互独立的情况下进行的。但是真实情况下并不独立，因为他们会公用许多的数据。所以降低方差的性能会大打折扣。其折扣力度是这么计算的：假设$f_m(x)$之间的相关性是$\\rho$，则$f_{avg}(x)$的方差为$\\rho x \\sigma^2 + (1-\\rho)x\\frac{\\sigma^2}{M}$\n",
    "\n",
    "\n",
    "还有一点，参数基学习器数目n_estimators不是模型复杂度参数，无需通过交叉验证来确定。参数值建议：\n",
    "\n",
    "- 对分类问题，可设置基学习器数目为$\\sqrt{D}$， 其中$D$为特征数目；\n",
    "\n",
    "- 对回归问题，可设置基学习器数目为$\\frac{D}{3}$。\n",
    "\n",
    "#### 1.4 随机森林\n",
    "\n",
    "由于仅训练数据有些不同，对决策树算法进行Bagging得到的多棵树高度相关，因此带来的方差减少有限。\n",
    "\n",
    "随机森林通过以下两个方法来降低树之间的相关性：\n",
    "\n",
    "• 随机选择一部分特征\n",
    "\n",
    "• 随机选择一部分样本\n",
    "\n",
    "\n",
    "随机森林在很多应用案例被证明有效，但牺牲了可解释性\n",
    "\n",
    "• 森林：多棵树\n",
    "\n",
    "• 随机：对样本和特征进行随机抽取"
   ]
  },
  {
   "cell_type": "code",
   "execution_count": 1,
   "metadata": {},
   "outputs": [],
   "source": [
    "import numpy as np\n",
    "import pandas as pd\n",
    "from sklearn.datasets import load_iris\n",
    "from sklearn.model_selection import  train_test_split\n",
    "import matplotlib.pyplot as plt\n",
    "%matplotlib inline"
   ]
  },
  {
   "cell_type": "code",
   "execution_count": 2,
   "metadata": {},
   "outputs": [],
   "source": [
    "# data\n",
    "def create_data():\n",
    "    iris = load_iris()\n",
    "    df = pd.DataFrame(iris.data, columns=iris.feature_names)\n",
    "    df['label'] = iris.target\n",
    "    df.columns = [\n",
    "        'sepal length', 'sepal width', 'petal length', 'petal width', 'label'\n",
    "    ]\n",
    "    data = np.array(df.iloc[:100, [0, 1, -1]])\n",
    "    for i in range(len(data)):\n",
    "        if data[i, -1] == 0:\n",
    "            data[i, -1] = -1\n",
    "    # print(data)\n",
    "    return data[:, :2], data[:, -1]"
   ]
  },
  {
   "cell_type": "code",
   "execution_count": 3,
   "metadata": {},
   "outputs": [],
   "source": [
    "X, y = create_data()\n",
    "X_train, X_test, y_train, y_test = train_test_split(X, y, test_size=0.25)"
   ]
  },
  {
   "cell_type": "code",
   "execution_count": 4,
   "metadata": {},
   "outputs": [
    {
     "data": {
      "text/plain": [
       "<matplotlib.legend.Legend at 0x1a2527b4e0>"
      ]
     },
     "execution_count": 4,
     "metadata": {},
     "output_type": "execute_result"
    },
    {
     "data": {
      "image/png": "[encoded data removed]",
      "text/plain": [
       "<Figure size 432x288 with 1 Axes>"
      ]
     },
     "metadata": {
      "needs_background": "light"
     },
     "output_type": "display_data"
    }
   ],
   "source": [
    "plt.scatter(X[:50,0],X[:50,1], label='0')\n",
    "plt.scatter(X[50:,0],X[50:,1], label='1')\n",
    "plt.legend()"
   ]
  },
  {
   "cell_type": "code",
   "execution_count": 5,
   "metadata": {},
   "outputs": [
    {
     "data": {
      "text/plain": [
       "1.0"
      ]
     },
     "execution_count": 5,
     "metadata": {},
     "output_type": "execute_result"
    }
   ],
   "source": [
    "from sklearn.svm import SVC\n",
    "from sklearn.ensemble import BaggingClassifier\n",
    "from sklearn.datasets import make_classification\n",
    "clf = BaggingClassifier(base_estimator=SVC(), n_estimators=10, random_state=0).fit(X_train, y_train)\n",
    "clf.score(X_test, y_test)"
   ]
  },
  {
   "cell_type": "code",
   "execution_count": null,
   "metadata": {},
   "outputs": [],
   "source": []
  }
 ],
 "metadata": {
  "kernelspec": {
   "display_name": "Python 3",
   "language": "python",
   "name": "python3"
  },
  "language_info": {
   "codemirror_mode": {
    "name": "ipython",
    "version": 3
   },
   "file_extension": ".py",
   "mimetype": "text/x-python",
   "name": "python",
   "nbconvert_exporter": "python",
   "pygments_lexer": "ipython3",
   "version": "3.6.9"
  }
 },
 "nbformat": 4,
 "nbformat_minor": 4
}
